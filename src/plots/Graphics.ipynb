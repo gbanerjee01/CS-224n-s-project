{
 "cells": [
  {
   "cell_type": "code",
   "execution_count": 3,
   "id": "proper-pocket",
   "metadata": {},
   "outputs": [],
   "source": [
    "import pandas as pd\n",
    "import seaborn as sns\n",
    "import numpy as np\n",
    "import matplotlib.pyplot as plt\n",
    "\n",
    "\n",
    "%matplotlib inline"
   ]
  },
  {
   "cell_type": "code",
   "execution_count": 4,
   "id": "printable-calcium",
   "metadata": {},
   "outputs": [],
   "source": [
    "df = pd.read_csv(\"complex_data.csv\")"
   ]
  },
  {
   "cell_type": "code",
   "execution_count": 5,
   "id": "piano-youth",
   "metadata": {},
   "outputs": [
    {
     "data": {
      "text/html": [
       "<div>\n",
       "<style scoped>\n",
       "    .dataframe tbody tr th:only-of-type {\n",
       "        vertical-align: middle;\n",
       "    }\n",
       "\n",
       "    .dataframe tbody tr th {\n",
       "        vertical-align: top;\n",
       "    }\n",
       "\n",
       "    .dataframe thead th {\n",
       "        text-align: right;\n",
       "    }\n",
       "</style>\n",
       "<table border=\"1\" class=\"dataframe\">\n",
       "  <thead>\n",
       "    <tr style=\"text-align: right;\">\n",
       "      <th></th>\n",
       "      <th>model</th>\n",
       "      <th>num_params</th>\n",
       "      <th>acc</th>\n",
       "      <th>num_params_log</th>\n",
       "    </tr>\n",
       "  </thead>\n",
       "  <tbody>\n",
       "    <tr>\n",
       "      <th>0</th>\n",
       "      <td>Logistic Regression</td>\n",
       "      <td>1552</td>\n",
       "      <td>22.22</td>\n",
       "      <td>3.190892</td>\n",
       "    </tr>\n",
       "    <tr>\n",
       "      <th>1</th>\n",
       "      <td>CNN</td>\n",
       "      <td>697344</td>\n",
       "      <td>13.19</td>\n",
       "      <td>5.843447</td>\n",
       "    </tr>\n",
       "    <tr>\n",
       "      <th>2</th>\n",
       "      <td>Transformer</td>\n",
       "      <td>6152</td>\n",
       "      <td>15.28</td>\n",
       "      <td>3.789016</td>\n",
       "    </tr>\n",
       "    <tr>\n",
       "      <th>3</th>\n",
       "      <td>DenseNet</td>\n",
       "      <td>18108296</td>\n",
       "      <td>73.61</td>\n",
       "      <td>7.257878</td>\n",
       "    </tr>\n",
       "    <tr>\n",
       "      <th>4</th>\n",
       "      <td>ResNet</td>\n",
       "      <td>23524424</td>\n",
       "      <td>76.39</td>\n",
       "      <td>7.371519</td>\n",
       "    </tr>\n",
       "    <tr>\n",
       "      <th>5</th>\n",
       "      <td>Issa et al.</td>\n",
       "      <td>501912</td>\n",
       "      <td>75.69</td>\n",
       "      <td>5.700628</td>\n",
       "    </tr>\n",
       "    <tr>\n",
       "      <th>6</th>\n",
       "      <td>DesNet ++</td>\n",
       "      <td>20588936</td>\n",
       "      <td>79.17</td>\n",
       "      <td>7.313634</td>\n",
       "    </tr>\n",
       "    <tr>\n",
       "      <th>7</th>\n",
       "      <td>ResNet ++</td>\n",
       "      <td>26135112</td>\n",
       "      <td>74.31</td>\n",
       "      <td>7.417224</td>\n",
       "    </tr>\n",
       "    <tr>\n",
       "      <th>8</th>\n",
       "      <td>MultiNet</td>\n",
       "      <td>107697640</td>\n",
       "      <td>77.78</td>\n",
       "      <td>8.032206</td>\n",
       "    </tr>\n",
       "  </tbody>\n",
       "</table>\n",
       "</div>"
      ],
      "text/plain": [
       "                 model  num_params    acc  num_params_log\n",
       "0  Logistic Regression        1552  22.22        3.190892\n",
       "1                 CNN       697344  13.19        5.843447\n",
       "2          Transformer        6152  15.28        3.789016\n",
       "3             DenseNet    18108296  73.61        7.257878\n",
       "4               ResNet    23524424  76.39        7.371519\n",
       "5          Issa et al.      501912  75.69        5.700628\n",
       "6            DesNet ++    20588936  79.17        7.313634\n",
       "7            ResNet ++    26135112  74.31        7.417224\n",
       "8             MultiNet   107697640  77.78        8.032206"
      ]
     },
     "execution_count": 5,
     "metadata": {},
     "output_type": "execute_result"
    }
   ],
   "source": [
    "df"
   ]
  },
  {
   "cell_type": "code",
   "execution_count": 72,
   "id": "plastic-oklahoma",
   "metadata": {},
   "outputs": [
    {
     "data": {
      "image/png": "[encoded data removed]",
      "text/plain": [
       "<Figure size 792x432 with 1 Axes>"
      ]
     },
     "metadata": {
      "needs_background": "light"
     },
     "output_type": "display_data"
    }
   ],
   "source": [
    "plt.figure(figsize=(11,6));\n",
    "plt.xlabel(\"Number Parameters (log-transform)\");\n",
    "plt.ylabel(\"Test Accuracy (%)\");\n",
    "plt.title(\"Complexity of Model vs. Test Accuracy\");\n",
    "\n",
    "\n",
    "\n",
    "# def label_point(x, y, val, ax):\n",
    "#     a = pd.concat({'x': x, 'y': y, 'val': val}, axis=1)\n",
    "#     for i, point in a.iterrows():\n",
    "#         ax.text(point['x']+.02, point['y']-2, str(point['val']))\n",
    "\n",
    "# label_point(df.num_params_log, df.acc, df.model, plt.gca());\n",
    "\n",
    "\n",
    "sns.scatterplot(data=df, x='num_params_log', y='acc', hue='model', s=100);"
   ]
  },
  {
   "cell_type": "code",
   "execution_count": 32,
   "id": "measured-customs",
   "metadata": {},
   "outputs": [],
   "source": [
    "df_g = pd.read_csv(\"gender.csv\")"
   ]
  },
  {
   "cell_type": "code",
   "execution_count": 34,
   "id": "powered-beast",
   "metadata": {},
   "outputs": [],
   "source": [
    "df_g['gender'] = -1"
   ]
  },
  {
   "cell_type": "code",
   "execution_count": 41,
   "id": "environmental-wiring",
   "metadata": {},
   "outputs": [],
   "source": [
    "df_w = df_g[['Model', 'test_acc_w', 'test_loss_w']]"
   ]
  },
  {
   "cell_type": "code",
   "execution_count": 43,
   "id": "unlike-friendly",
   "metadata": {},
   "outputs": [],
   "source": [
    "df_w['gender'].values[:] = 0"
   ]
  },
  {
   "cell_type": "code",
   "execution_count": 44,
   "id": "proprietary-breed",
   "metadata": {},
   "outputs": [
    {
     "data": {
      "text/html": [
       "<div>\n",
       "<style scoped>\n",
       "    .dataframe tbody tr th:only-of-type {\n",
       "        vertical-align: middle;\n",
       "    }\n",
       "\n",
       "    .dataframe tbody tr th {\n",
       "        vertical-align: top;\n",
       "    }\n",
       "\n",
       "    .dataframe thead th {\n",
       "        text-align: right;\n",
       "    }\n",
       "</style>\n",
       "<table border=\"1\" class=\"dataframe\">\n",
       "  <thead>\n",
       "    <tr style=\"text-align: right;\">\n",
       "      <th></th>\n",
       "      <th>Model</th>\n",
       "      <th>test_acc_w</th>\n",
       "      <th>test_loss_w</th>\n",
       "      <th>gender</th>\n",
       "    </tr>\n",
       "  </thead>\n",
       "  <tbody>\n",
       "    <tr>\n",
       "      <th>0</th>\n",
       "      <td>Logistic Regression</td>\n",
       "      <td>22.86</td>\n",
       "      <td>8.51</td>\n",
       "      <td>0</td>\n",
       "    </tr>\n",
       "    <tr>\n",
       "      <th>1</th>\n",
       "      <td>CNN</td>\n",
       "      <td>15.07</td>\n",
       "      <td>2.09</td>\n",
       "      <td>0</td>\n",
       "    </tr>\n",
       "    <tr>\n",
       "      <th>2</th>\n",
       "      <td>Transformer</td>\n",
       "      <td>16.44</td>\n",
       "      <td>2.10</td>\n",
       "      <td>0</td>\n",
       "    </tr>\n",
       "    <tr>\n",
       "      <th>3</th>\n",
       "      <td>DenseNet</td>\n",
       "      <td>78.08</td>\n",
       "      <td>0.85</td>\n",
       "      <td>0</td>\n",
       "    </tr>\n",
       "    <tr>\n",
       "      <th>4</th>\n",
       "      <td>ResNet</td>\n",
       "      <td>86.30</td>\n",
       "      <td>0.45</td>\n",
       "      <td>0</td>\n",
       "    </tr>\n",
       "    <tr>\n",
       "      <th>5</th>\n",
       "      <td>Issa et al.</td>\n",
       "      <td>80.82</td>\n",
       "      <td>0.82</td>\n",
       "      <td>0</td>\n",
       "    </tr>\n",
       "    <tr>\n",
       "      <th>6</th>\n",
       "      <td>DesNet ++</td>\n",
       "      <td>83.56</td>\n",
       "      <td>0.69</td>\n",
       "      <td>0</td>\n",
       "    </tr>\n",
       "    <tr>\n",
       "      <th>7</th>\n",
       "      <td>ResNet ++</td>\n",
       "      <td>84.93</td>\n",
       "      <td>0.60</td>\n",
       "      <td>0</td>\n",
       "    </tr>\n",
       "    <tr>\n",
       "      <th>8</th>\n",
       "      <td>MultiNet</td>\n",
       "      <td>82.19</td>\n",
       "      <td>0.55</td>\n",
       "      <td>0</td>\n",
       "    </tr>\n",
       "    <tr>\n",
       "      <th>9</th>\n",
       "      <td>avg</td>\n",
       "      <td>61.14</td>\n",
       "      <td>1.85</td>\n",
       "      <td>0</td>\n",
       "    </tr>\n",
       "  </tbody>\n",
       "</table>\n",
       "</div>"
      ],
      "text/plain": [
       "                 Model  test_acc_w  test_loss_w  gender\n",
       "0  Logistic Regression       22.86         8.51       0\n",
       "1                 CNN        15.07         2.09       0\n",
       "2          Transformer       16.44         2.10       0\n",
       "3             DenseNet       78.08         0.85       0\n",
       "4               ResNet       86.30         0.45       0\n",
       "5          Issa et al.       80.82         0.82       0\n",
       "6            DesNet ++       83.56         0.69       0\n",
       "7            ResNet ++       84.93         0.60       0\n",
       "8             MultiNet       82.19         0.55       0\n",
       "9                  avg       61.14         1.85       0"
      ]
     },
     "execution_count": 44,
     "metadata": {},
     "output_type": "execute_result"
    }
   ],
   "source": [
    "df_w"
   ]
  },
  {
   "cell_type": "code",
   "execution_count": 47,
   "id": "maritime-albany",
   "metadata": {},
   "outputs": [],
   "source": [
    "df_m = df_g[['Model', 'test_acc_m', 'test_loss_m']]"
   ]
  },
  {
   "cell_type": "code",
   "execution_count": 48,
   "id": "virtual-courtesy",
   "metadata": {},
   "outputs": [
    {
     "name": "stderr",
     "output_type": "stream",
     "text": [
      "/home/emily2h/anaconda3/envs/local_nmt/lib/python3.7/site-packages/ipykernel_launcher.py:1: SettingWithCopyWarning: \n",
      "A value is trying to be set on a copy of a slice from a DataFrame.\n",
      "Try using .loc[row_indexer,col_indexer] = value instead\n",
      "\n",
      "See the caveats in the documentation: https://pandas.pydata.org/pandas-docs/stable/user_guide/indexing.html#returning-a-view-versus-a-copy\n",
      "  \"\"\"Entry point for launching an IPython kernel.\n"
     ]
    }
   ],
   "source": [
    "df_m['gender']= 1"
   ]
  },
  {
   "cell_type": "code",
   "execution_count": 50,
   "id": "nuclear-street",
   "metadata": {},
   "outputs": [],
   "source": [
    "df_m.columns = ['Model', 'test_acc', 'test_loss', 'gender']\n",
    "df_w.columns = ['Model', 'test_acc', 'test_loss', 'gender']"
   ]
  },
  {
   "cell_type": "code",
   "execution_count": 56,
   "id": "material-copying",
   "metadata": {},
   "outputs": [],
   "source": [
    "gender_map = {-1:'All', 0:'W', 1:'M'}"
   ]
  },
  {
   "cell_type": "code",
   "execution_count": 51,
   "id": "authentic-charles",
   "metadata": {},
   "outputs": [],
   "source": [
    "df_g = df_g[['Model', 'test_acc', 'test_loss', 'gender']]"
   ]
  },
  {
   "cell_type": "code",
   "execution_count": 52,
   "id": "constant-farmer",
   "metadata": {},
   "outputs": [],
   "source": [
    "df_new = pd.concat([df_g, df_m, df_w])"
   ]
  },
  {
   "cell_type": "code",
   "execution_count": 57,
   "id": "violent-current",
   "metadata": {},
   "outputs": [],
   "source": [
    "df_new['gender'] = df_new['gender'].map(gender_map)"
   ]
  },
  {
   "cell_type": "code",
   "execution_count": 71,
   "id": "premier-shoulder",
   "metadata": {},
   "outputs": [
    {
     "data": {
      "text/plain": [
       "Text(0, 0.5, 'Test Accuracy (%)')"
      ]
     },
     "execution_count": 71,
     "metadata": {},
     "output_type": "execute_result"
    },
    {
     "data": {
      "image/png": "[encoded data removed]",
      "text/plain": [
       "<Figure size 1008x504 with 1 Axes>"
      ]
     },
     "metadata": {
      "needs_background": "light"
     },
     "output_type": "display_data"
    }
   ],
   "source": [
    "plt.figure(figsize=(14,7))\n",
    "plt.title(\"Test Accuracy of Models Across Gender\")\n",
    "\n",
    "# Create an array with the colors you want to use\n",
    "colors = ['#377eb8', '#ff7f00', '#4daf4a',\n",
    "                  '#f781bf', '#a65628', '#984ea3',\n",
    "                  '#999999', '#e41a1c', '#dede00']\n",
    "sns.set_palette(sns.color_palette(colors))\n",
    "\n",
    "sns.barplot(data=df_new, x='Model', y='test_acc', hue='gender')\n",
    "plt.ylabel(\"Test Accuracy (%)\")\n"
   ]
  },
  {
   "cell_type": "code",
   "execution_count": null,
   "id": "confidential-harris",
   "metadata": {},
   "outputs": [],
   "source": []
  }
 ],
 "metadata": {
  "kernelspec": {
   "display_name": "Python 3",
   "language": "python",
   "name": "python3"
  },
  "language_info": {
   "codemirror_mode": {
    "name": "ipython",
    "version": 3
   },
   "file_extension": ".py",
   "mimetype": "text/x-python",
   "name": "python",
   "nbconvert_exporter": "python",
   "pygments_lexer": "ipython3",
   "version": "3.7.9"
  }
 },
 "nbformat": 4,
 "nbformat_minor": 5
}
